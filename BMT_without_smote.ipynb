{
  "cells": [
    {
      "cell_type": "code",
      "execution_count": null,
      "metadata": {
        "id": "VGDMQr21Cij5"
      },
      "outputs": [],
      "source": [
        "import tensorflow as tf"
      ]
    },
    {
      "cell_type": "code",
      "execution_count": null,
      "metadata": {
        "id": "S2cE2qDzCv9S"
      },
      "outputs": [],
      "source": [
        "import pandas as pd\n",
        "import numpy as np\n",
        "from tensorflow.keras.models import Sequential\n",
        "from tensorflow.keras.layers import LSTM\n",
        "from tensorflow.keras.layers import Dropout\n",
        "from tensorflow.keras.layers import Dense\n",
        "from sklearn.model_selection import train_test_split\n"
      ]
    },
    {
      "cell_type": "code",
      "execution_count": null,
      "metadata": {
        "id": "rDT5_dyeDaip"
      },
      "outputs": [],
      "source": [
        "dt=pd.read_csv(\"/content/csv_result-bone-marrow.csv\")"
      ]
    },
    {
      "cell_type": "code",
      "execution_count": null,
      "metadata": {
        "colab": {
          "base_uri": "https://localhost:8080/",
          "height": 299
        },
        "id": "8s469_rHDp6J",
        "outputId": "5eeadbf2-c652-4857-8ac0-b361c6962434"
      },
      "outputs": [
        {
          "output_type": "execute_result",
          "data": {
            "text/plain": [
              "   id  Recipientgender  Stemcellsource   Donorage  Donorage35  IIIV  \\\n",
              "0   1                1               1  22.830137           0     1   \n",
              "1   2                1               0  23.342466           0     1   \n",
              "2   3                1               0  26.394521           0     1   \n",
              "3   4                0               0  39.684932           1     1   \n",
              "4   5                0               1  33.358904           0     0   \n",
              "\n",
              "   Gendermatch  DonorABO RecipientABO RecipientRh  ... extcGvHD CD34kgx10d6  \\\n",
              "0            0         1            1           1  ...        1        7.20   \n",
              "1            0        -1           -1           1  ...        1        4.50   \n",
              "2            0        -1           -1           1  ...        1        7.94   \n",
              "3            0         1            2           1  ...        ?        4.25   \n",
              "4            0         1            2           0  ...        1       51.85   \n",
              "\n",
              "    CD3dCD34 CD3dkgx10d8 Rbodymass  ANCrecovery  PLTrecovery  \\\n",
              "0    1.33876        5.38        35           19           51   \n",
              "1  11.078295        0.41      20.6           16           37   \n",
              "2   19.01323        0.42      23.4           23           20   \n",
              "3  29.481647        0.14        50           23           29   \n",
              "4   3.972255       13.05         9           14           14   \n",
              "\n",
              "   time_to_aGvHD_III_IV  survival_time  survival_status  \n",
              "0                    32            999                0  \n",
              "1               1000000            163                1  \n",
              "2               1000000            435                1  \n",
              "3                    19             53                1  \n",
              "4               1000000           2043                0  \n",
              "\n",
              "[5 rows x 38 columns]"
            ],
            "text/html": [
              "\n",
              "  <div id=\"df-7a39ede1-b222-479a-84db-a434c3f16e4c\">\n",
              "    <div class=\"colab-df-container\">\n",
              "      <div>\n",
              "<style scoped>\n",
              "    .dataframe tbody tr th:only-of-type {\n",
              "        vertical-align: middle;\n",
              "    }\n",
              "\n",
              "    .dataframe tbody tr th {\n",
              "        vertical-align: top;\n",
              "    }\n",
              "\n",
              "    .dataframe thead th {\n",
              "        text-align: right;\n",
              "    }\n",
              "</style>\n",
              "<table border=\"1\" class=\"dataframe\">\n",
              "  <thead>\n",
              "    <tr style=\"text-align: right;\">\n",
              "      <th></th>\n",
              "      <th>id</th>\n",
              "      <th>Recipientgender</th>\n",
              "      <th>Stemcellsource</th>\n",
              "      <th>Donorage</th>\n",
              "      <th>Donorage35</th>\n",
              "      <th>IIIV</th>\n",
              "      <th>Gendermatch</th>\n",
              "      <th>DonorABO</th>\n",
              "      <th>RecipientABO</th>\n",
              "      <th>RecipientRh</th>\n",
              "      <th>...</th>\n",
              "      <th>extcGvHD</th>\n",
              "      <th>CD34kgx10d6</th>\n",
              "      <th>CD3dCD34</th>\n",
              "      <th>CD3dkgx10d8</th>\n",
              "      <th>Rbodymass</th>\n",
              "      <th>ANCrecovery</th>\n",
              "      <th>PLTrecovery</th>\n",
              "      <th>time_to_aGvHD_III_IV</th>\n",
              "      <th>survival_time</th>\n",
              "      <th>survival_status</th>\n",
              "    </tr>\n",
              "  </thead>\n",
              "  <tbody>\n",
              "    <tr>\n",
              "      <th>0</th>\n",
              "      <td>1</td>\n",
              "      <td>1</td>\n",
              "      <td>1</td>\n",
              "      <td>22.830137</td>\n",
              "      <td>0</td>\n",
              "      <td>1</td>\n",
              "      <td>0</td>\n",
              "      <td>1</td>\n",
              "      <td>1</td>\n",
              "      <td>1</td>\n",
              "      <td>...</td>\n",
              "      <td>1</td>\n",
              "      <td>7.20</td>\n",
              "      <td>1.33876</td>\n",
              "      <td>5.38</td>\n",
              "      <td>35</td>\n",
              "      <td>19</td>\n",
              "      <td>51</td>\n",
              "      <td>32</td>\n",
              "      <td>999</td>\n",
              "      <td>0</td>\n",
              "    </tr>\n",
              "    <tr>\n",
              "      <th>1</th>\n",
              "      <td>2</td>\n",
              "      <td>1</td>\n",
              "      <td>0</td>\n",
              "      <td>23.342466</td>\n",
              "      <td>0</td>\n",
              "      <td>1</td>\n",
              "      <td>0</td>\n",
              "      <td>-1</td>\n",
              "      <td>-1</td>\n",
              "      <td>1</td>\n",
              "      <td>...</td>\n",
              "      <td>1</td>\n",
              "      <td>4.50</td>\n",
              "      <td>11.078295</td>\n",
              "      <td>0.41</td>\n",
              "      <td>20.6</td>\n",
              "      <td>16</td>\n",
              "      <td>37</td>\n",
              "      <td>1000000</td>\n",
              "      <td>163</td>\n",
              "      <td>1</td>\n",
              "    </tr>\n",
              "    <tr>\n",
              "      <th>2</th>\n",
              "      <td>3</td>\n",
              "      <td>1</td>\n",
              "      <td>0</td>\n",
              "      <td>26.394521</td>\n",
              "      <td>0</td>\n",
              "      <td>1</td>\n",
              "      <td>0</td>\n",
              "      <td>-1</td>\n",
              "      <td>-1</td>\n",
              "      <td>1</td>\n",
              "      <td>...</td>\n",
              "      <td>1</td>\n",
              "      <td>7.94</td>\n",
              "      <td>19.01323</td>\n",
              "      <td>0.42</td>\n",
              "      <td>23.4</td>\n",
              "      <td>23</td>\n",
              "      <td>20</td>\n",
              "      <td>1000000</td>\n",
              "      <td>435</td>\n",
              "      <td>1</td>\n",
              "    </tr>\n",
              "    <tr>\n",
              "      <th>3</th>\n",
              "      <td>4</td>\n",
              "      <td>0</td>\n",
              "      <td>0</td>\n",
              "      <td>39.684932</td>\n",
              "      <td>1</td>\n",
              "      <td>1</td>\n",
              "      <td>0</td>\n",
              "      <td>1</td>\n",
              "      <td>2</td>\n",
              "      <td>1</td>\n",
              "      <td>...</td>\n",
              "      <td>?</td>\n",
              "      <td>4.25</td>\n",
              "      <td>29.481647</td>\n",
              "      <td>0.14</td>\n",
              "      <td>50</td>\n",
              "      <td>23</td>\n",
              "      <td>29</td>\n",
              "      <td>19</td>\n",
              "      <td>53</td>\n",
              "      <td>1</td>\n",
              "    </tr>\n",
              "    <tr>\n",
              "      <th>4</th>\n",
              "      <td>5</td>\n",
              "      <td>0</td>\n",
              "      <td>1</td>\n",
              "      <td>33.358904</td>\n",
              "      <td>0</td>\n",
              "      <td>0</td>\n",
              "      <td>0</td>\n",
              "      <td>1</td>\n",
              "      <td>2</td>\n",
              "      <td>0</td>\n",
              "      <td>...</td>\n",
              "      <td>1</td>\n",
              "      <td>51.85</td>\n",
              "      <td>3.972255</td>\n",
              "      <td>13.05</td>\n",
              "      <td>9</td>\n",
              "      <td>14</td>\n",
              "      <td>14</td>\n",
              "      <td>1000000</td>\n",
              "      <td>2043</td>\n",
              "      <td>0</td>\n",
              "    </tr>\n",
              "  </tbody>\n",
              "</table>\n",
              "<p>5 rows × 38 columns</p>\n",
              "</div>\n",
              "      <button class=\"colab-df-convert\" onclick=\"convertToInteractive('df-7a39ede1-b222-479a-84db-a434c3f16e4c')\"\n",
              "              title=\"Convert this dataframe to an interactive table.\"\n",
              "              style=\"display:none;\">\n",
              "        \n",
              "  <svg xmlns=\"http://www.w3.org/2000/svg\" height=\"24px\"viewBox=\"0 0 24 24\"\n",
              "       width=\"24px\">\n",
              "    <path d=\"M0 0h24v24H0V0z\" fill=\"none\"/>\n",
              "    <path d=\"M18.56 5.44l.94 2.06.94-2.06 2.06-.94-2.06-.94-.94-2.06-.94 2.06-2.06.94zm-11 1L8.5 8.5l.94-2.06 2.06-.94-2.06-.94L8.5 2.5l-.94 2.06-2.06.94zm10 10l.94 2.06.94-2.06 2.06-.94-2.06-.94-.94-2.06-.94 2.06-2.06.94z\"/><path d=\"M17.41 7.96l-1.37-1.37c-.4-.4-.92-.59-1.43-.59-.52 0-1.04.2-1.43.59L10.3 9.45l-7.72 7.72c-.78.78-.78 2.05 0 2.83L4 21.41c.39.39.9.59 1.41.59.51 0 1.02-.2 1.41-.59l7.78-7.78 2.81-2.81c.8-.78.8-2.07 0-2.86zM5.41 20L4 18.59l7.72-7.72 1.47 1.35L5.41 20z\"/>\n",
              "  </svg>\n",
              "      </button>\n",
              "      \n",
              "  <style>\n",
              "    .colab-df-container {\n",
              "      display:flex;\n",
              "      flex-wrap:wrap;\n",
              "      gap: 12px;\n",
              "    }\n",
              "\n",
              "    .colab-df-convert {\n",
              "      background-color: #E8F0FE;\n",
              "      border: none;\n",
              "      border-radius: 50%;\n",
              "      cursor: pointer;\n",
              "      display: none;\n",
              "      fill: #1967D2;\n",
              "      height: 32px;\n",
              "      padding: 0 0 0 0;\n",
              "      width: 32px;\n",
              "    }\n",
              "\n",
              "    .colab-df-convert:hover {\n",
              "      background-color: #E2EBFA;\n",
              "      box-shadow: 0px 1px 2px rgba(60, 64, 67, 0.3), 0px 1px 3px 1px rgba(60, 64, 67, 0.15);\n",
              "      fill: #174EA6;\n",
              "    }\n",
              "\n",
              "    [theme=dark] .colab-df-convert {\n",
              "      background-color: #3B4455;\n",
              "      fill: #D2E3FC;\n",
              "    }\n",
              "\n",
              "    [theme=dark] .colab-df-convert:hover {\n",
              "      background-color: #434B5C;\n",
              "      box-shadow: 0px 1px 3px 1px rgba(0, 0, 0, 0.15);\n",
              "      filter: drop-shadow(0px 1px 2px rgba(0, 0, 0, 0.3));\n",
              "      fill: #FFFFFF;\n",
              "    }\n",
              "  </style>\n",
              "\n",
              "      <script>\n",
              "        const buttonEl =\n",
              "          document.querySelector('#df-7a39ede1-b222-479a-84db-a434c3f16e4c button.colab-df-convert');\n",
              "        buttonEl.style.display =\n",
              "          google.colab.kernel.accessAllowed ? 'block' : 'none';\n",
              "\n",
              "        async function convertToInteractive(key) {\n",
              "          const element = document.querySelector('#df-7a39ede1-b222-479a-84db-a434c3f16e4c');\n",
              "          const dataTable =\n",
              "            await google.colab.kernel.invokeFunction('convertToInteractive',\n",
              "                                                     [key], {});\n",
              "          if (!dataTable) return;\n",
              "\n",
              "          const docLinkHtml = 'Like what you see? Visit the ' +\n",
              "            '<a target=\"_blank\" href=https://colab.research.google.com/notebooks/data_table.ipynb>data table notebook</a>'\n",
              "            + ' to learn more about interactive tables.';\n",
              "          element.innerHTML = '';\n",
              "          dataTable['output_type'] = 'display_data';\n",
              "          await google.colab.output.renderOutput(dataTable, element);\n",
              "          const docLink = document.createElement('div');\n",
              "          docLink.innerHTML = docLinkHtml;\n",
              "          element.appendChild(docLink);\n",
              "        }\n",
              "      </script>\n",
              "    </div>\n",
              "  </div>\n",
              "  "
            ]
          },
          "metadata": {},
          "execution_count": 4
        }
      ],
      "source": [
        "dt.head()"
      ]
    },
    {
      "cell_type": "code",
      "execution_count": null,
      "metadata": {
        "colab": {
          "base_uri": "https://localhost:8080/"
        },
        "id": "xELcWuwsDss5",
        "outputId": "0c6dbdae-91b0-48bf-ce35-b4b97b0b8beb"
      },
      "outputs": [
        {
          "output_type": "execute_result",
          "data": {
            "text/plain": [
              "(187, 38)"
            ]
          },
          "metadata": {},
          "execution_count": 5
        }
      ],
      "source": [
        "dt.shape"
      ]
    },
    {
      "cell_type": "code",
      "execution_count": null,
      "metadata": {
        "colab": {
          "base_uri": "https://localhost:8080/"
        },
        "id": "13CM3Lm_DvFE",
        "outputId": "0bc17fc0-663c-4697-ddd7-c9dfee3d4039"
      },
      "outputs": [
        {
          "output_type": "execute_result",
          "data": {
            "text/plain": [
              "id                        int64\n",
              "Recipientgender           int64\n",
              "Stemcellsource            int64\n",
              "Donorage                float64\n",
              "Donorage35                int64\n",
              "IIIV                      int64\n",
              "Gendermatch               int64\n",
              "DonorABO                  int64\n",
              "RecipientABO             object\n",
              "RecipientRh              object\n",
              "ABOmatch                 object\n",
              "CMVstatus                object\n",
              "DonorCMV                 object\n",
              "RecipientCMV             object\n",
              "Disease                  object\n",
              "Riskgroup                 int64\n",
              "Txpostrelapse             int64\n",
              "Diseasegroup              int64\n",
              "HLAmatch                  int64\n",
              "HLAmismatch               int64\n",
              "Antigen                  object\n",
              "Alel                     object\n",
              "HLAgrI                    int64\n",
              "Recipientage            float64\n",
              "Recipientage10            int64\n",
              "Recipientageint           int64\n",
              "Relapse                   int64\n",
              "aGvHDIIIIV                int64\n",
              "extcGvHD                 object\n",
              "CD34kgx10d6             float64\n",
              "CD3dCD34                 object\n",
              "CD3dkgx10d8              object\n",
              "Rbodymass                object\n",
              "ANCrecovery               int64\n",
              "PLTrecovery               int64\n",
              "time_to_aGvHD_III_IV      int64\n",
              "survival_time             int64\n",
              "survival_status           int64\n",
              "dtype: object"
            ]
          },
          "metadata": {},
          "execution_count": 6
        }
      ],
      "source": [
        "dt.dtypes"
      ]
    },
    {
      "cell_type": "code",
      "execution_count": null,
      "metadata": {
        "colab": {
          "base_uri": "https://localhost:8080/",
          "height": 487
        },
        "id": "IjWhwU5kD3hf",
        "outputId": "4261d0d7-1570-4e7a-b187-0ece17cd1afd"
      },
      "outputs": [
        {
          "output_type": "execute_result",
          "data": {
            "text/plain": [
              "      id  Recipientgender  Stemcellsource   Donorage  Donorage35  IIIV  \\\n",
              "0      1                1               1  22.830137           0     1   \n",
              "1      2                1               0  23.342466           0     1   \n",
              "2      3                1               0  26.394521           0     1   \n",
              "3      4                0               0  39.684932           1     1   \n",
              "4      5                0               1  33.358904           0     0   \n",
              "..   ...              ...             ...        ...         ...   ...   \n",
              "182  183                1               1  37.575342           1     1   \n",
              "183  184                0               1  22.895890           0     0   \n",
              "184  185                0               1  27.347945           0     1   \n",
              "185  186                1               1  27.780822           0     1   \n",
              "186  187                1               1  55.553425           1     1   \n",
              "\n",
              "     Gendermatch  DonorABO RecipientABO RecipientRh  ... extcGvHD CD34kgx10d6  \\\n",
              "0              0         1            1           1  ...        1        7.20   \n",
              "1              0        -1           -1           1  ...        1        4.50   \n",
              "2              0        -1           -1           1  ...        1        7.94   \n",
              "3              0         1            2           1  ...        ?        4.25   \n",
              "4              0         1            2           0  ...        1       51.85   \n",
              "..           ...       ...          ...         ...  ...      ...         ...   \n",
              "182            0         1            1           0  ...        1       11.08   \n",
              "183            0         1            0           1  ...        1        4.64   \n",
              "184            0         1           -1           1  ...        1        7.73   \n",
              "185            0         1            0           1  ...        0       15.41   \n",
              "186            0         1            2           1  ...        1        9.91   \n",
              "\n",
              "      CD3dCD34 CD3dkgx10d8 Rbodymass  ANCrecovery  PLTrecovery  \\\n",
              "0      1.33876        5.38        35           19           51   \n",
              "1    11.078295        0.41      20.6           16           37   \n",
              "2     19.01323        0.42      23.4           23           20   \n",
              "3    29.481647        0.14        50           23           29   \n",
              "4     3.972255       13.05         9           14           14   \n",
              "..         ...         ...       ...          ...          ...   \n",
              "182    2.52275        4.39        44           15           22   \n",
              "183   1.038858        4.47      44.5           12           30   \n",
              "184   1.635559        4.73        33           16           16   \n",
              "185    8.07777        1.91        24           13           14   \n",
              "186   0.948135       10.45        37           18           20   \n",
              "\n",
              "     time_to_aGvHD_III_IV  survival_time  survival_status  \n",
              "0                      32            999                0  \n",
              "1                 1000000            163                1  \n",
              "2                 1000000            435                1  \n",
              "3                      19             53                1  \n",
              "4                 1000000           2043                0  \n",
              "..                    ...            ...              ...  \n",
              "182                    16            385                1  \n",
              "183               1000000            634                1  \n",
              "184               1000000           1895                0  \n",
              "185                    54            382                1  \n",
              "186               1000000           1109                0  \n",
              "\n",
              "[187 rows x 38 columns]"
            ],
            "text/html": [
              "\n",
              "  <div id=\"df-6dc8032c-4846-49ad-8840-89d31cb3b468\">\n",
              "    <div class=\"colab-df-container\">\n",
              "      <div>\n",
              "<style scoped>\n",
              "    .dataframe tbody tr th:only-of-type {\n",
              "        vertical-align: middle;\n",
              "    }\n",
              "\n",
              "    .dataframe tbody tr th {\n",
              "        vertical-align: top;\n",
              "    }\n",
              "\n",
              "    .dataframe thead th {\n",
              "        text-align: right;\n",
              "    }\n",
              "</style>\n",
              "<table border=\"1\" class=\"dataframe\">\n",
              "  <thead>\n",
              "    <tr style=\"text-align: right;\">\n",
              "      <th></th>\n",
              "      <th>id</th>\n",
              "      <th>Recipientgender</th>\n",
              "      <th>Stemcellsource</th>\n",
              "      <th>Donorage</th>\n",
              "      <th>Donorage35</th>\n",
              "      <th>IIIV</th>\n",
              "      <th>Gendermatch</th>\n",
              "      <th>DonorABO</th>\n",
              "      <th>RecipientABO</th>\n",
              "      <th>RecipientRh</th>\n",
              "      <th>...</th>\n",
              "      <th>extcGvHD</th>\n",
              "      <th>CD34kgx10d6</th>\n",
              "      <th>CD3dCD34</th>\n",
              "      <th>CD3dkgx10d8</th>\n",
              "      <th>Rbodymass</th>\n",
              "      <th>ANCrecovery</th>\n",
              "      <th>PLTrecovery</th>\n",
              "      <th>time_to_aGvHD_III_IV</th>\n",
              "      <th>survival_time</th>\n",
              "      <th>survival_status</th>\n",
              "    </tr>\n",
              "  </thead>\n",
              "  <tbody>\n",
              "    <tr>\n",
              "      <th>0</th>\n",
              "      <td>1</td>\n",
              "      <td>1</td>\n",
              "      <td>1</td>\n",
              "      <td>22.830137</td>\n",
              "      <td>0</td>\n",
              "      <td>1</td>\n",
              "      <td>0</td>\n",
              "      <td>1</td>\n",
              "      <td>1</td>\n",
              "      <td>1</td>\n",
              "      <td>...</td>\n",
              "      <td>1</td>\n",
              "      <td>7.20</td>\n",
              "      <td>1.33876</td>\n",
              "      <td>5.38</td>\n",
              "      <td>35</td>\n",
              "      <td>19</td>\n",
              "      <td>51</td>\n",
              "      <td>32</td>\n",
              "      <td>999</td>\n",
              "      <td>0</td>\n",
              "    </tr>\n",
              "    <tr>\n",
              "      <th>1</th>\n",
              "      <td>2</td>\n",
              "      <td>1</td>\n",
              "      <td>0</td>\n",
              "      <td>23.342466</td>\n",
              "      <td>0</td>\n",
              "      <td>1</td>\n",
              "      <td>0</td>\n",
              "      <td>-1</td>\n",
              "      <td>-1</td>\n",
              "      <td>1</td>\n",
              "      <td>...</td>\n",
              "      <td>1</td>\n",
              "      <td>4.50</td>\n",
              "      <td>11.078295</td>\n",
              "      <td>0.41</td>\n",
              "      <td>20.6</td>\n",
              "      <td>16</td>\n",
              "      <td>37</td>\n",
              "      <td>1000000</td>\n",
              "      <td>163</td>\n",
              "      <td>1</td>\n",
              "    </tr>\n",
              "    <tr>\n",
              "      <th>2</th>\n",
              "      <td>3</td>\n",
              "      <td>1</td>\n",
              "      <td>0</td>\n",
              "      <td>26.394521</td>\n",
              "      <td>0</td>\n",
              "      <td>1</td>\n",
              "      <td>0</td>\n",
              "      <td>-1</td>\n",
              "      <td>-1</td>\n",
              "      <td>1</td>\n",
              "      <td>...</td>\n",
              "      <td>1</td>\n",
              "      <td>7.94</td>\n",
              "      <td>19.01323</td>\n",
              "      <td>0.42</td>\n",
              "      <td>23.4</td>\n",
              "      <td>23</td>\n",
              "      <td>20</td>\n",
              "      <td>1000000</td>\n",
              "      <td>435</td>\n",
              "      <td>1</td>\n",
              "    </tr>\n",
              "    <tr>\n",
              "      <th>3</th>\n",
              "      <td>4</td>\n",
              "      <td>0</td>\n",
              "      <td>0</td>\n",
              "      <td>39.684932</td>\n",
              "      <td>1</td>\n",
              "      <td>1</td>\n",
              "      <td>0</td>\n",
              "      <td>1</td>\n",
              "      <td>2</td>\n",
              "      <td>1</td>\n",
              "      <td>...</td>\n",
              "      <td>?</td>\n",
              "      <td>4.25</td>\n",
              "      <td>29.481647</td>\n",
              "      <td>0.14</td>\n",
              "      <td>50</td>\n",
              "      <td>23</td>\n",
              "      <td>29</td>\n",
              "      <td>19</td>\n",
              "      <td>53</td>\n",
              "      <td>1</td>\n",
              "    </tr>\n",
              "    <tr>\n",
              "      <th>4</th>\n",
              "      <td>5</td>\n",
              "      <td>0</td>\n",
              "      <td>1</td>\n",
              "      <td>33.358904</td>\n",
              "      <td>0</td>\n",
              "      <td>0</td>\n",
              "      <td>0</td>\n",
              "      <td>1</td>\n",
              "      <td>2</td>\n",
              "      <td>0</td>\n",
              "      <td>...</td>\n",
              "      <td>1</td>\n",
              "      <td>51.85</td>\n",
              "      <td>3.972255</td>\n",
              "      <td>13.05</td>\n",
              "      <td>9</td>\n",
              "      <td>14</td>\n",
              "      <td>14</td>\n",
              "      <td>1000000</td>\n",
              "      <td>2043</td>\n",
              "      <td>0</td>\n",
              "    </tr>\n",
              "    <tr>\n",
              "      <th>...</th>\n",
              "      <td>...</td>\n",
              "      <td>...</td>\n",
              "      <td>...</td>\n",
              "      <td>...</td>\n",
              "      <td>...</td>\n",
              "      <td>...</td>\n",
              "      <td>...</td>\n",
              "      <td>...</td>\n",
              "      <td>...</td>\n",
              "      <td>...</td>\n",
              "      <td>...</td>\n",
              "      <td>...</td>\n",
              "      <td>...</td>\n",
              "      <td>...</td>\n",
              "      <td>...</td>\n",
              "      <td>...</td>\n",
              "      <td>...</td>\n",
              "      <td>...</td>\n",
              "      <td>...</td>\n",
              "      <td>...</td>\n",
              "      <td>...</td>\n",
              "    </tr>\n",
              "    <tr>\n",
              "      <th>182</th>\n",
              "      <td>183</td>\n",
              "      <td>1</td>\n",
              "      <td>1</td>\n",
              "      <td>37.575342</td>\n",
              "      <td>1</td>\n",
              "      <td>1</td>\n",
              "      <td>0</td>\n",
              "      <td>1</td>\n",
              "      <td>1</td>\n",
              "      <td>0</td>\n",
              "      <td>...</td>\n",
              "      <td>1</td>\n",
              "      <td>11.08</td>\n",
              "      <td>2.52275</td>\n",
              "      <td>4.39</td>\n",
              "      <td>44</td>\n",
              "      <td>15</td>\n",
              "      <td>22</td>\n",
              "      <td>16</td>\n",
              "      <td>385</td>\n",
              "      <td>1</td>\n",
              "    </tr>\n",
              "    <tr>\n",
              "      <th>183</th>\n",
              "      <td>184</td>\n",
              "      <td>0</td>\n",
              "      <td>1</td>\n",
              "      <td>22.895890</td>\n",
              "      <td>0</td>\n",
              "      <td>0</td>\n",
              "      <td>0</td>\n",
              "      <td>1</td>\n",
              "      <td>0</td>\n",
              "      <td>1</td>\n",
              "      <td>...</td>\n",
              "      <td>1</td>\n",
              "      <td>4.64</td>\n",
              "      <td>1.038858</td>\n",
              "      <td>4.47</td>\n",
              "      <td>44.5</td>\n",
              "      <td>12</td>\n",
              "      <td>30</td>\n",
              "      <td>1000000</td>\n",
              "      <td>634</td>\n",
              "      <td>1</td>\n",
              "    </tr>\n",
              "    <tr>\n",
              "      <th>184</th>\n",
              "      <td>185</td>\n",
              "      <td>0</td>\n",
              "      <td>1</td>\n",
              "      <td>27.347945</td>\n",
              "      <td>0</td>\n",
              "      <td>1</td>\n",
              "      <td>0</td>\n",
              "      <td>1</td>\n",
              "      <td>-1</td>\n",
              "      <td>1</td>\n",
              "      <td>...</td>\n",
              "      <td>1</td>\n",
              "      <td>7.73</td>\n",
              "      <td>1.635559</td>\n",
              "      <td>4.73</td>\n",
              "      <td>33</td>\n",
              "      <td>16</td>\n",
              "      <td>16</td>\n",
              "      <td>1000000</td>\n",
              "      <td>1895</td>\n",
              "      <td>0</td>\n",
              "    </tr>\n",
              "    <tr>\n",
              "      <th>185</th>\n",
              "      <td>186</td>\n",
              "      <td>1</td>\n",
              "      <td>1</td>\n",
              "      <td>27.780822</td>\n",
              "      <td>0</td>\n",
              "      <td>1</td>\n",
              "      <td>0</td>\n",
              "      <td>1</td>\n",
              "      <td>0</td>\n",
              "      <td>1</td>\n",
              "      <td>...</td>\n",
              "      <td>0</td>\n",
              "      <td>15.41</td>\n",
              "      <td>8.07777</td>\n",
              "      <td>1.91</td>\n",
              "      <td>24</td>\n",
              "      <td>13</td>\n",
              "      <td>14</td>\n",
              "      <td>54</td>\n",
              "      <td>382</td>\n",
              "      <td>1</td>\n",
              "    </tr>\n",
              "    <tr>\n",
              "      <th>186</th>\n",
              "      <td>187</td>\n",
              "      <td>1</td>\n",
              "      <td>1</td>\n",
              "      <td>55.553425</td>\n",
              "      <td>1</td>\n",
              "      <td>1</td>\n",
              "      <td>0</td>\n",
              "      <td>1</td>\n",
              "      <td>2</td>\n",
              "      <td>1</td>\n",
              "      <td>...</td>\n",
              "      <td>1</td>\n",
              "      <td>9.91</td>\n",
              "      <td>0.948135</td>\n",
              "      <td>10.45</td>\n",
              "      <td>37</td>\n",
              "      <td>18</td>\n",
              "      <td>20</td>\n",
              "      <td>1000000</td>\n",
              "      <td>1109</td>\n",
              "      <td>0</td>\n",
              "    </tr>\n",
              "  </tbody>\n",
              "</table>\n",
              "<p>187 rows × 38 columns</p>\n",
              "</div>\n",
              "      <button class=\"colab-df-convert\" onclick=\"convertToInteractive('df-6dc8032c-4846-49ad-8840-89d31cb3b468')\"\n",
              "              title=\"Convert this dataframe to an interactive table.\"\n",
              "              style=\"display:none;\">\n",
              "        \n",
              "  <svg xmlns=\"http://www.w3.org/2000/svg\" height=\"24px\"viewBox=\"0 0 24 24\"\n",
              "       width=\"24px\">\n",
              "    <path d=\"M0 0h24v24H0V0z\" fill=\"none\"/>\n",
              "    <path d=\"M18.56 5.44l.94 2.06.94-2.06 2.06-.94-2.06-.94-.94-2.06-.94 2.06-2.06.94zm-11 1L8.5 8.5l.94-2.06 2.06-.94-2.06-.94L8.5 2.5l-.94 2.06-2.06.94zm10 10l.94 2.06.94-2.06 2.06-.94-2.06-.94-.94-2.06-.94 2.06-2.06.94z\"/><path d=\"M17.41 7.96l-1.37-1.37c-.4-.4-.92-.59-1.43-.59-.52 0-1.04.2-1.43.59L10.3 9.45l-7.72 7.72c-.78.78-.78 2.05 0 2.83L4 21.41c.39.39.9.59 1.41.59.51 0 1.02-.2 1.41-.59l7.78-7.78 2.81-2.81c.8-.78.8-2.07 0-2.86zM5.41 20L4 18.59l7.72-7.72 1.47 1.35L5.41 20z\"/>\n",
              "  </svg>\n",
              "      </button>\n",
              "      \n",
              "  <style>\n",
              "    .colab-df-container {\n",
              "      display:flex;\n",
              "      flex-wrap:wrap;\n",
              "      gap: 12px;\n",
              "    }\n",
              "\n",
              "    .colab-df-convert {\n",
              "      background-color: #E8F0FE;\n",
              "      border: none;\n",
              "      border-radius: 50%;\n",
              "      cursor: pointer;\n",
              "      display: none;\n",
              "      fill: #1967D2;\n",
              "      height: 32px;\n",
              "      padding: 0 0 0 0;\n",
              "      width: 32px;\n",
              "    }\n",
              "\n",
              "    .colab-df-convert:hover {\n",
              "      background-color: #E2EBFA;\n",
              "      box-shadow: 0px 1px 2px rgba(60, 64, 67, 0.3), 0px 1px 3px 1px rgba(60, 64, 67, 0.15);\n",
              "      fill: #174EA6;\n",
              "    }\n",
              "\n",
              "    [theme=dark] .colab-df-convert {\n",
              "      background-color: #3B4455;\n",
              "      fill: #D2E3FC;\n",
              "    }\n",
              "\n",
              "    [theme=dark] .colab-df-convert:hover {\n",
              "      background-color: #434B5C;\n",
              "      box-shadow: 0px 1px 3px 1px rgba(0, 0, 0, 0.15);\n",
              "      filter: drop-shadow(0px 1px 2px rgba(0, 0, 0, 0.3));\n",
              "      fill: #FFFFFF;\n",
              "    }\n",
              "  </style>\n",
              "\n",
              "      <script>\n",
              "        const buttonEl =\n",
              "          document.querySelector('#df-6dc8032c-4846-49ad-8840-89d31cb3b468 button.colab-df-convert');\n",
              "        buttonEl.style.display =\n",
              "          google.colab.kernel.accessAllowed ? 'block' : 'none';\n",
              "\n",
              "        async function convertToInteractive(key) {\n",
              "          const element = document.querySelector('#df-6dc8032c-4846-49ad-8840-89d31cb3b468');\n",
              "          const dataTable =\n",
              "            await google.colab.kernel.invokeFunction('convertToInteractive',\n",
              "                                                     [key], {});\n",
              "          if (!dataTable) return;\n",
              "\n",
              "          const docLinkHtml = 'Like what you see? Visit the ' +\n",
              "            '<a target=\"_blank\" href=https://colab.research.google.com/notebooks/data_table.ipynb>data table notebook</a>'\n",
              "            + ' to learn more about interactive tables.';\n",
              "          element.innerHTML = '';\n",
              "          dataTable['output_type'] = 'display_data';\n",
              "          await google.colab.output.renderOutput(dataTable, element);\n",
              "          const docLink = document.createElement('div');\n",
              "          docLink.innerHTML = docLinkHtml;\n",
              "          element.appendChild(docLink);\n",
              "        }\n",
              "      </script>\n",
              "    </div>\n",
              "  </div>\n",
              "  "
            ]
          },
          "metadata": {},
          "execution_count": 7
        }
      ],
      "source": [
        "dt.dropna()"
      ]
    },
    {
      "cell_type": "code",
      "execution_count": null,
      "metadata": {
        "colab": {
          "base_uri": "https://localhost:8080/"
        },
        "id": "bCpavhLKD6jj",
        "outputId": "99e8c3b6-dca7-4858-f08d-aadeb67c0967"
      },
      "outputs": [
        {
          "output_type": "execute_result",
          "data": {
            "text/plain": [
              "['id',\n",
              " 'Recipientgender',\n",
              " 'Stemcellsource',\n",
              " 'Donorage',\n",
              " 'Donorage35',\n",
              " 'IIIV',\n",
              " 'Gendermatch',\n",
              " 'DonorABO',\n",
              " 'Riskgroup',\n",
              " 'Txpostrelapse',\n",
              " 'Diseasegroup',\n",
              " 'HLAmatch',\n",
              " 'HLAmismatch',\n",
              " 'HLAgrI',\n",
              " 'Recipientage',\n",
              " 'Recipientage10',\n",
              " 'Recipientageint',\n",
              " 'Relapse',\n",
              " 'aGvHDIIIIV',\n",
              " 'CD34kgx10d6',\n",
              " 'ANCrecovery',\n",
              " 'PLTrecovery',\n",
              " 'time_to_aGvHD_III_IV',\n",
              " 'survival_time',\n",
              " 'survival_status']"
            ]
          },
          "metadata": {},
          "execution_count": 8
        }
      ],
      "source": [
        "cor=abs(dt.corr(method=\"pearson\"))\n",
        "relevant_features = cor[cor<0.5]\n",
        "list4=relevant_features.keys().to_list()\n",
        "list4"
      ]
    },
    {
      "cell_type": "code",
      "execution_count": null,
      "metadata": {
        "id": "U0_35bs05G8M"
      },
      "outputs": [],
      "source": [
        "coloums=['Recipientgender','Stemcellsource','Donorage','Donorage35','IIIV','Gendermatch','DonorABO','Riskgroup','Txpostrelapse','Diseasegroup','HLAmatch','HLAmismatch','HLAgrI','Recipientage','Recipientage10','Recipientageint','Relapse','aGvHDIIIIV','CD34kgx10d6','ANCrecovery','PLTrecovery','time_to_aGvHD_III_IV','survival_time',]\n",
        "x=dt[coloums]\n",
        "y=dt[\"survival_status\"]\n"
      ]
    },
    {
      "cell_type": "code",
      "execution_count": null,
      "metadata": {
        "id": "jZERfW-wEKp3"
      },
      "outputs": [],
      "source": [
        "from sklearn.preprocessing import StandardScaler"
      ]
    },
    {
      "cell_type": "code",
      "execution_count": null,
      "metadata": {
        "id": "m0bAIozA3rnY"
      },
      "outputs": [],
      "source": [
        "scaler=StandardScaler()\n",
        "x=scaler.fit_transform(x)\n"
      ]
    },
    {
      "cell_type": "code",
      "source": [
        "x"
      ],
      "metadata": {
        "colab": {
          "base_uri": "https://localhost:8080/"
        },
        "id": "BUIkrNUkwjFa",
        "outputId": "0e3d72fe-69c1-4d5a-9e66-aca260cae118"
      },
      "execution_count": null,
      "outputs": [
        {
          "output_type": "execute_result",
          "data": {
            "text/plain": [
              "array([[ 0.81831709,  0.53819622, -1.28998124, ..., -0.31616067,\n",
              "        -1.8580561 ,  0.07111487],\n",
              "       [ 0.81831709, -1.85805838, -1.22787834, ..., -0.31620937,\n",
              "         0.53819622, -0.91553139],\n",
              "       [ 0.81831709, -1.85805838, -0.85791788, ..., -0.3162685 ,\n",
              "         0.53819622, -0.5945173 ],\n",
              "       ...,\n",
              "       [-1.22202019,  0.53819622, -0.74234683, ..., -0.31628242,\n",
              "         0.53819622,  1.12857307],\n",
              "       [ 0.81831709,  0.53819622, -0.68987485, ..., -0.31628938,\n",
              "        -1.85800338, -0.65706784],\n",
              "       [ 0.81831709,  0.53819622,  2.67663232, ..., -0.3162685 ,\n",
              "         0.53819622,  0.20093675]])"
            ]
          },
          "metadata": {},
          "execution_count": 12
        }
      ]
    },
    {
      "cell_type": "code",
      "source": [
        "df = pd.DataFrame(x)\n",
        "df.to_csv(\"processed_data.csv\")"
      ],
      "metadata": {
        "id": "pqRcaPLi66Wk"
      },
      "execution_count": null,
      "outputs": []
    },
    {
      "cell_type": "code",
      "source": [
        "y.value_counts()"
      ],
      "metadata": {
        "colab": {
          "base_uri": "https://localhost:8080/"
        },
        "id": "9Tu5VzXBf25-",
        "outputId": "62abad60-e269-4cf2-d0cd-8d121dd28886"
      },
      "execution_count": null,
      "outputs": [
        {
          "output_type": "execute_result",
          "data": {
            "text/plain": [
              "0    102\n",
              "1     85\n",
              "Name: survival_status, dtype: int64"
            ]
          },
          "metadata": {},
          "execution_count": 14
        }
      ]
    },
    {
      "cell_type": "code",
      "source": [],
      "metadata": {
        "id": "7CT0ovF8foX4"
      },
      "execution_count": null,
      "outputs": []
    },
    {
      "cell_type": "code",
      "source": [
        "train_X, val_X, train_y, val_y = train_test_split(x, y, random_state=1,train_size=0.8)\n"
      ],
      "metadata": {
        "id": "Z6dYAANqfNu-"
      },
      "execution_count": null,
      "outputs": []
    },
    {
      "cell_type": "code",
      "source": [],
      "metadata": {
        "id": "sL7NsUh3fYQN"
      },
      "execution_count": null,
      "outputs": []
    },
    {
      "cell_type": "code",
      "source": [
        "rnn = Sequential()"
      ],
      "metadata": {
        "id": "lqNGAiQUfd89"
      },
      "execution_count": null,
      "outputs": []
    },
    {
      "cell_type": "code",
      "source": [
        "rnn.add(LSTM(units = 45, return_sequences = True, input_shape = (train_X.shape[1], 1)))"
      ],
      "metadata": {
        "id": "2oBAd0fsgtFe"
      },
      "execution_count": null,
      "outputs": []
    },
    {
      "cell_type": "code",
      "source": [
        "rnn.add(Dropout(0.2))"
      ],
      "metadata": {
        "id": "1TWLSxcIgu4Y"
      },
      "execution_count": null,
      "outputs": []
    },
    {
      "cell_type": "code",
      "source": [
        "rnn.add(LSTM(units = 45, return_sequences = True))\n",
        "\n",
        "rnn.add(Dropout(0.2))\n",
        "\n",
        "rnn.add(LSTM(units = 45, return_sequences = True))\n",
        "\n",
        "rnn.add(Dropout(0.2))\n",
        "\n",
        "rnn.add(LSTM(units = 45))\n",
        "\n",
        "rnn.add(Dropout(0.2))"
      ],
      "metadata": {
        "id": "3KiIJ3t_gzxF"
      },
      "execution_count": null,
      "outputs": []
    },
    {
      "cell_type": "code",
      "source": [
        "rnn.add(Dense(units = 1))"
      ],
      "metadata": {
        "id": "kUBoBxNAg28H"
      },
      "execution_count": null,
      "outputs": []
    },
    {
      "cell_type": "code",
      "source": [
        "rnn.compile(optimizer = 'adam', loss = 'mean_squared_error')"
      ],
      "metadata": {
        "id": "JbvEKRgZg5uL"
      },
      "execution_count": null,
      "outputs": []
    },
    {
      "cell_type": "code",
      "source": [
        "rnn.fit(train_X,train_y, epochs = 100, batch_size = 32)"
      ],
      "metadata": {
        "colab": {
          "base_uri": "https://localhost:8080/"
        },
        "id": "1Iq9DICNg8vV",
        "outputId": "6edd49c5-1c6b-4174-f528-bf366799fc67"
      },
      "execution_count": null,
      "outputs": [
        {
          "output_type": "stream",
          "name": "stdout",
          "text": [
            "Epoch 1/100\n",
            "5/5 [==============================] - 8s 45ms/step - loss: 0.3993\n",
            "Epoch 2/100\n",
            "5/5 [==============================] - 0s 48ms/step - loss: 0.2600\n",
            "Epoch 3/100\n",
            "5/5 [==============================] - 0s 47ms/step - loss: 0.2652\n",
            "Epoch 4/100\n",
            "5/5 [==============================] - 0s 53ms/step - loss: 0.2363\n",
            "Epoch 5/100\n",
            "5/5 [==============================] - 0s 52ms/step - loss: 0.2396\n",
            "Epoch 6/100\n",
            "5/5 [==============================] - 0s 44ms/step - loss: 0.2270\n",
            "Epoch 7/100\n",
            "5/5 [==============================] - 0s 44ms/step - loss: 0.2336\n",
            "Epoch 8/100\n",
            "5/5 [==============================] - 0s 66ms/step - loss: 0.2326\n",
            "Epoch 9/100\n",
            "5/5 [==============================] - 0s 74ms/step - loss: 0.2282\n",
            "Epoch 10/100\n",
            "5/5 [==============================] - 0s 79ms/step - loss: 0.2338\n",
            "Epoch 11/100\n",
            "5/5 [==============================] - 0s 95ms/step - loss: 0.2264\n",
            "Epoch 12/100\n",
            "5/5 [==============================] - 0s 94ms/step - loss: 0.2269\n",
            "Epoch 13/100\n",
            "5/5 [==============================] - 0s 80ms/step - loss: 0.2270\n",
            "Epoch 14/100\n",
            "5/5 [==============================] - 0s 77ms/step - loss: 0.2272\n",
            "Epoch 15/100\n",
            "5/5 [==============================] - 0s 45ms/step - loss: 0.2351\n",
            "Epoch 16/100\n",
            "5/5 [==============================] - 0s 56ms/step - loss: 0.2290\n",
            "Epoch 17/100\n",
            "5/5 [==============================] - 0s 55ms/step - loss: 0.2259\n",
            "Epoch 18/100\n",
            "5/5 [==============================] - 0s 46ms/step - loss: 0.2232\n",
            "Epoch 19/100\n",
            "5/5 [==============================] - 0s 46ms/step - loss: 0.2288\n",
            "Epoch 20/100\n",
            "5/5 [==============================] - 0s 45ms/step - loss: 0.2292\n",
            "Epoch 21/100\n",
            "5/5 [==============================] - 0s 48ms/step - loss: 0.2284\n",
            "Epoch 22/100\n",
            "5/5 [==============================] - 0s 44ms/step - loss: 0.2257\n",
            "Epoch 23/100\n",
            "5/5 [==============================] - 0s 46ms/step - loss: 0.2202\n",
            "Epoch 24/100\n",
            "5/5 [==============================] - 0s 44ms/step - loss: 0.2300\n",
            "Epoch 25/100\n",
            "5/5 [==============================] - 0s 46ms/step - loss: 0.2292\n",
            "Epoch 26/100\n",
            "5/5 [==============================] - 0s 46ms/step - loss: 0.2259\n",
            "Epoch 27/100\n",
            "5/5 [==============================] - 0s 43ms/step - loss: 0.2255\n",
            "Epoch 28/100\n",
            "5/5 [==============================] - 0s 44ms/step - loss: 0.2262\n",
            "Epoch 29/100\n",
            "5/5 [==============================] - 0s 45ms/step - loss: 0.2324\n",
            "Epoch 30/100\n",
            "5/5 [==============================] - 0s 44ms/step - loss: 0.2223\n",
            "Epoch 31/100\n",
            "5/5 [==============================] - 0s 44ms/step - loss: 0.2261\n",
            "Epoch 32/100\n",
            "5/5 [==============================] - 0s 43ms/step - loss: 0.2255\n",
            "Epoch 33/100\n",
            "5/5 [==============================] - 0s 46ms/step - loss: 0.2311\n",
            "Epoch 34/100\n",
            "5/5 [==============================] - 0s 45ms/step - loss: 0.2244\n",
            "Epoch 35/100\n",
            "5/5 [==============================] - 0s 46ms/step - loss: 0.2196\n",
            "Epoch 36/100\n",
            "5/5 [==============================] - 0s 44ms/step - loss: 0.2223\n",
            "Epoch 37/100\n",
            "5/5 [==============================] - 0s 88ms/step - loss: 0.2199\n",
            "Epoch 38/100\n",
            "5/5 [==============================] - 0s 46ms/step - loss: 0.2250\n",
            "Epoch 39/100\n",
            "5/5 [==============================] - 0s 45ms/step - loss: 0.2218\n",
            "Epoch 40/100\n",
            "5/5 [==============================] - 0s 44ms/step - loss: 0.2132\n",
            "Epoch 41/100\n",
            "5/5 [==============================] - 0s 45ms/step - loss: 0.2203\n",
            "Epoch 42/100\n",
            "5/5 [==============================] - 0s 46ms/step - loss: 0.2245\n",
            "Epoch 43/100\n",
            "5/5 [==============================] - 0s 46ms/step - loss: 0.2209\n",
            "Epoch 44/100\n",
            "5/5 [==============================] - 0s 48ms/step - loss: 0.2205\n",
            "Epoch 45/100\n",
            "5/5 [==============================] - 0s 44ms/step - loss: 0.2255\n",
            "Epoch 46/100\n",
            "5/5 [==============================] - 0s 46ms/step - loss: 0.2154\n",
            "Epoch 47/100\n",
            "5/5 [==============================] - 0s 50ms/step - loss: 0.2167\n",
            "Epoch 48/100\n",
            "5/5 [==============================] - 0s 46ms/step - loss: 0.2225\n",
            "Epoch 49/100\n",
            "5/5 [==============================] - 0s 45ms/step - loss: 0.2152\n",
            "Epoch 50/100\n",
            "5/5 [==============================] - 0s 44ms/step - loss: 0.2205\n",
            "Epoch 51/100\n",
            "5/5 [==============================] - 0s 47ms/step - loss: 0.2118\n",
            "Epoch 52/100\n",
            "5/5 [==============================] - 0s 52ms/step - loss: 0.2165\n",
            "Epoch 53/100\n",
            "5/5 [==============================] - 0s 45ms/step - loss: 0.2166\n",
            "Epoch 54/100\n",
            "5/5 [==============================] - 0s 46ms/step - loss: 0.2118\n",
            "Epoch 55/100\n",
            "5/5 [==============================] - 0s 46ms/step - loss: 0.2135\n",
            "Epoch 56/100\n",
            "5/5 [==============================] - 0s 79ms/step - loss: 0.2227\n",
            "Epoch 57/100\n",
            "5/5 [==============================] - 0s 80ms/step - loss: 0.2115\n",
            "Epoch 58/100\n",
            "5/5 [==============================] - 0s 77ms/step - loss: 0.2085\n",
            "Epoch 59/100\n",
            "5/5 [==============================] - 0s 79ms/step - loss: 0.2114\n",
            "Epoch 60/100\n",
            "5/5 [==============================] - 0s 78ms/step - loss: 0.2090\n",
            "Epoch 61/100\n",
            "5/5 [==============================] - 0s 76ms/step - loss: 0.2035\n",
            "Epoch 62/100\n",
            "5/5 [==============================] - 0s 77ms/step - loss: 0.1985\n",
            "Epoch 63/100\n",
            "5/5 [==============================] - 0s 48ms/step - loss: 0.1972\n",
            "Epoch 64/100\n",
            "5/5 [==============================] - 0s 45ms/step - loss: 0.2007\n",
            "Epoch 65/100\n",
            "5/5 [==============================] - 0s 44ms/step - loss: 0.2023\n",
            "Epoch 66/100\n",
            "5/5 [==============================] - 0s 46ms/step - loss: 0.2033\n",
            "Epoch 67/100\n",
            "5/5 [==============================] - 0s 44ms/step - loss: 0.2002\n",
            "Epoch 68/100\n",
            "5/5 [==============================] - 0s 45ms/step - loss: 0.1935\n",
            "Epoch 69/100\n",
            "5/5 [==============================] - 0s 53ms/step - loss: 0.1967\n",
            "Epoch 70/100\n",
            "5/5 [==============================] - 0s 45ms/step - loss: 0.1957\n",
            "Epoch 71/100\n",
            "5/5 [==============================] - 0s 53ms/step - loss: 0.1910\n",
            "Epoch 72/100\n",
            "5/5 [==============================] - 0s 48ms/step - loss: 0.1889\n",
            "Epoch 73/100\n",
            "5/5 [==============================] - 0s 48ms/step - loss: 0.1729\n",
            "Epoch 74/100\n",
            "5/5 [==============================] - 0s 46ms/step - loss: 0.1843\n",
            "Epoch 75/100\n",
            "5/5 [==============================] - 0s 46ms/step - loss: 0.1848\n",
            "Epoch 76/100\n",
            "5/5 [==============================] - 0s 46ms/step - loss: 0.1743\n",
            "Epoch 77/100\n",
            "5/5 [==============================] - 0s 43ms/step - loss: 0.1696\n",
            "Epoch 78/100\n",
            "5/5 [==============================] - 0s 47ms/step - loss: 0.1762\n",
            "Epoch 79/100\n",
            "5/5 [==============================] - 0s 43ms/step - loss: 0.1754\n",
            "Epoch 80/100\n",
            "5/5 [==============================] - 0s 49ms/step - loss: 0.1736\n",
            "Epoch 81/100\n",
            "5/5 [==============================] - 0s 44ms/step - loss: 0.1671\n",
            "Epoch 82/100\n",
            "5/5 [==============================] - 0s 45ms/step - loss: 0.1671\n",
            "Epoch 83/100\n",
            "5/5 [==============================] - 0s 44ms/step - loss: 0.1688\n",
            "Epoch 84/100\n",
            "5/5 [==============================] - 0s 47ms/step - loss: 0.1714\n",
            "Epoch 85/100\n",
            "5/5 [==============================] - 0s 46ms/step - loss: 0.1615\n",
            "Epoch 86/100\n",
            "5/5 [==============================] - 0s 44ms/step - loss: 0.1616\n",
            "Epoch 87/100\n",
            "5/5 [==============================] - 0s 46ms/step - loss: 0.1639\n",
            "Epoch 88/100\n",
            "5/5 [==============================] - 0s 46ms/step - loss: 0.1583\n",
            "Epoch 89/100\n",
            "5/5 [==============================] - 0s 50ms/step - loss: 0.1574\n",
            "Epoch 90/100\n",
            "5/5 [==============================] - 0s 44ms/step - loss: 0.1606\n",
            "Epoch 91/100\n",
            "5/5 [==============================] - 0s 46ms/step - loss: 0.1511\n",
            "Epoch 92/100\n",
            "5/5 [==============================] - 0s 45ms/step - loss: 0.1553\n",
            "Epoch 93/100\n",
            "5/5 [==============================] - 0s 50ms/step - loss: 0.1664\n",
            "Epoch 94/100\n",
            "5/5 [==============================] - 0s 47ms/step - loss: 0.1503\n",
            "Epoch 95/100\n",
            "5/5 [==============================] - 0s 45ms/step - loss: 0.1513\n",
            "Epoch 96/100\n",
            "5/5 [==============================] - 0s 47ms/step - loss: 0.1464\n",
            "Epoch 97/100\n",
            "5/5 [==============================] - 0s 50ms/step - loss: 0.1499\n",
            "Epoch 98/100\n",
            "5/5 [==============================] - 0s 44ms/step - loss: 0.1504\n",
            "Epoch 99/100\n",
            "5/5 [==============================] - 0s 44ms/step - loss: 0.1581\n",
            "Epoch 100/100\n",
            "5/5 [==============================] - 0s 44ms/step - loss: 0.1439\n"
          ]
        },
        {
          "output_type": "execute_result",
          "data": {
            "text/plain": [
              "<keras.callbacks.History at 0x7f3d79c88f10>"
            ]
          },
          "metadata": {},
          "execution_count": 22
        }
      ]
    },
    {
      "cell_type": "code",
      "source": [
        "predictions = rnn.predict(val_X)"
      ],
      "metadata": {
        "colab": {
          "base_uri": "https://localhost:8080/"
        },
        "id": "Dc_lxC_vg_0a",
        "outputId": "1f77e220-fd0a-4833-baaf-4c7ed3d29c33"
      },
      "execution_count": null,
      "outputs": [
        {
          "output_type": "stream",
          "name": "stdout",
          "text": [
            "2/2 [==============================] - 2s 16ms/step\n"
          ]
        }
      ]
    },
    {
      "cell_type": "code",
      "source": [
        "from sklearn.metrics import mean_squared_error as MSE"
      ],
      "metadata": {
        "id": "osNEKAIsha5_"
      },
      "execution_count": null,
      "outputs": []
    },
    {
      "cell_type": "code",
      "source": [
        "mse_rnn = MSE(val_y,predictions)"
      ],
      "metadata": {
        "id": "caaAfR1shepZ"
      },
      "execution_count": null,
      "outputs": []
    },
    {
      "cell_type": "code",
      "source": [
        "mse_rnn"
      ],
      "metadata": {
        "colab": {
          "base_uri": "https://localhost:8080/"
        },
        "id": "QZKlLYnUhh5W",
        "outputId": "5845ee52-85c2-4907-be4a-2d858f69d9ab"
      },
      "execution_count": null,
      "outputs": [
        {
          "output_type": "execute_result",
          "data": {
            "text/plain": [
              "0.2751382864080406"
            ]
          },
          "metadata": {},
          "execution_count": 26
        }
      ]
    },
    {
      "cell_type": "code",
      "source": [
        "import sklearn.metrics as metrics\n",
        "from sklearn.metrics import classification_report"
      ],
      "metadata": {
        "id": "sNXKdVcshiyG"
      },
      "execution_count": null,
      "outputs": []
    },
    {
      "cell_type": "code",
      "source": [
        "print('\\nRNN')\n",
        "print('Accuracy Score:',metrics.accuracy_score(val_y,predictions.round())*100,'%',sep='')\n",
        "print('Confusion Matrix:',metrics.confusion_matrix(val_y,predictions.round()),sep='\\n')\n",
        "print(classification_report(val_y,predictions.round()))"
      ],
      "metadata": {
        "colab": {
          "base_uri": "https://localhost:8080/"
        },
        "id": "ej8GyJF6hmQJ",
        "outputId": "6138348f-d8c8-401d-bab4-66f9b1e0d674"
      },
      "execution_count": null,
      "outputs": [
        {
          "output_type": "stream",
          "name": "stdout",
          "text": [
            "\n",
            "RNN\n",
            "Accuracy Score:60.526315789473685%\n",
            "Confusion Matrix:\n",
            "[[ 9 12]\n",
            " [ 3 14]]\n",
            "              precision    recall  f1-score   support\n",
            "\n",
            "           0       0.75      0.43      0.55        21\n",
            "           1       0.54      0.82      0.65        17\n",
            "\n",
            "    accuracy                           0.61        38\n",
            "   macro avg       0.64      0.63      0.60        38\n",
            "weighted avg       0.66      0.61      0.59        38\n",
            "\n"
          ]
        }
      ]
    },
    {
      "cell_type": "code",
      "source": [
        "pip install pyGRNN --ignore-installed"
      ],
      "metadata": {
        "colab": {
          "base_uri": "https://localhost:8080/"
        },
        "id": "iBUlgUuOn309",
        "outputId": "6d778dec-c9a2-40b7-8121-1a84655d4c53"
      },
      "execution_count": null,
      "outputs": [
        {
          "output_type": "stream",
          "name": "stdout",
          "text": [
            "Looking in indexes: https://pypi.org/simple, https://us-python.pkg.dev/colab-wheels/public/simple/\n",
            "Collecting pyGRNN\n",
            "  Downloading pyGRNN-0.1.2-py3-none-any.whl (12 kB)\n",
            "Collecting scikit-learn\n",
            "  Downloading scikit_learn-1.2.2-cp39-cp39-manylinux_2_17_x86_64.manylinux2014_x86_64.whl (9.6 MB)\n",
            "\u001b[2K     \u001b[90m━━━━━━━━━━━━━━━━━━━━━━━━━━━━━━━━━━━━━━━━\u001b[0m \u001b[32m9.6/9.6 MB\u001b[0m \u001b[31m86.2 MB/s\u001b[0m eta \u001b[36m0:00:00\u001b[0m\n",
            "\u001b[?25hCollecting seaborn\n",
            "  Downloading seaborn-0.12.2-py3-none-any.whl (293 kB)\n",
            "\u001b[2K     \u001b[90m━━━━━━━━━━━━━━━━━━━━━━━━━━━━━━━━━━━━━━\u001b[0m \u001b[32m293.3/293.3 KB\u001b[0m \u001b[31m35.2 MB/s\u001b[0m eta \u001b[36m0:00:00\u001b[0m\n",
            "\u001b[?25hCollecting matplotlib\n",
            "  Downloading matplotlib-3.7.1-cp39-cp39-manylinux_2_17_x86_64.manylinux2014_x86_64.whl (11.6 MB)\n",
            "\u001b[2K     \u001b[90m━━━━━━━━━━━━━━━━━━━━━━━━━━━━━━━━━━━━━━━━\u001b[0m \u001b[32m11.6/11.6 MB\u001b[0m \u001b[31m89.9 MB/s\u001b[0m eta \u001b[36m0:00:00\u001b[0m\n",
            "\u001b[?25hCollecting scipy\n",
            "  Downloading scipy-1.10.1-cp39-cp39-manylinux_2_17_x86_64.manylinux2014_x86_64.whl (34.5 MB)\n",
            "\u001b[2K     \u001b[90m━━━━━━━━━━━━━━━━━━━━━━━━━━━━━━━━━━━━━━━━\u001b[0m \u001b[32m34.5/34.5 MB\u001b[0m \u001b[31m17.9 MB/s\u001b[0m eta \u001b[36m0:00:00\u001b[0m\n",
            "\u001b[?25hCollecting numpy\n",
            "  Downloading numpy-1.24.2-cp39-cp39-manylinux_2_17_x86_64.manylinux2014_x86_64.whl (17.3 MB)\n",
            "\u001b[2K     \u001b[90m━━━━━━━━━━━━━━━━━━━━━━━━━━━━━━━━━━━━━━━━\u001b[0m \u001b[32m17.3/17.3 MB\u001b[0m \u001b[31m75.3 MB/s\u001b[0m eta \u001b[36m0:00:00\u001b[0m\n",
            "\u001b[?25hCollecting pandas\n",
            "  Downloading pandas-2.0.0-cp39-cp39-manylinux_2_17_x86_64.manylinux2014_x86_64.whl (12.4 MB)\n",
            "\u001b[2K     \u001b[90m━━━━━━━━━━━━━━━━━━━━━━━━━━━━━━━━━━━━━━━━\u001b[0m \u001b[32m12.4/12.4 MB\u001b[0m \u001b[31m90.2 MB/s\u001b[0m eta \u001b[36m0:00:00\u001b[0m\n",
            "\u001b[?25hCollecting cycler>=0.10\n",
            "  Downloading cycler-0.11.0-py3-none-any.whl (6.4 kB)\n",
            "Collecting python-dateutil>=2.7\n",
            "  Downloading python_dateutil-2.8.2-py2.py3-none-any.whl (247 kB)\n",
            "\u001b[2K     \u001b[90m━━━━━━━━━━━━━━━━━━━━━━━━━━━━━━━━━━━━━━\u001b[0m \u001b[32m247.7/247.7 KB\u001b[0m \u001b[31m35.0 MB/s\u001b[0m eta \u001b[36m0:00:00\u001b[0m\n",
            "\u001b[?25hCollecting contourpy>=1.0.1\n",
            "  Downloading contourpy-1.0.7-cp39-cp39-manylinux_2_17_x86_64.manylinux2014_x86_64.whl (299 kB)\n",
            "\u001b[2K     \u001b[90m━━━━━━━━━━━━━━━━━━━━━━━━━━━━━━━━━━━━━━\u001b[0m \u001b[32m299.7/299.7 KB\u001b[0m \u001b[31m37.2 MB/s\u001b[0m eta \u001b[36m0:00:00\u001b[0m\n",
            "\u001b[?25hCollecting packaging>=20.0\n",
            "  Downloading packaging-23.0-py3-none-any.whl (42 kB)\n",
            "\u001b[2K     \u001b[90m━━━━━━━━━━━━━━━━━━━━━━━━━━━━━━━━━━━━━━━━\u001b[0m \u001b[32m42.7/42.7 KB\u001b[0m \u001b[31m6.6 MB/s\u001b[0m eta \u001b[36m0:00:00\u001b[0m\n",
            "\u001b[?25hCollecting fonttools>=4.22.0\n",
            "  Downloading fonttools-4.39.3-py3-none-any.whl (1.0 MB)\n",
            "\u001b[2K     \u001b[90m━━━━━━━━━━━━━━━━━━━━━━━━━━━━━━━━━━━━━━━━\u001b[0m \u001b[32m1.0/1.0 MB\u001b[0m \u001b[31m74.4 MB/s\u001b[0m eta \u001b[36m0:00:00\u001b[0m\n",
            "\u001b[?25hCollecting kiwisolver>=1.0.1\n",
            "  Downloading kiwisolver-1.4.4-cp39-cp39-manylinux_2_12_x86_64.manylinux2010_x86_64.whl (1.6 MB)\n",
            "\u001b[2K     \u001b[90m━━━━━━━━━━━━━━━━━━━━━━━━━━━━━━━━━━━━━━━━\u001b[0m \u001b[32m1.6/1.6 MB\u001b[0m \u001b[31m80.8 MB/s\u001b[0m eta \u001b[36m0:00:00\u001b[0m\n",
            "\u001b[?25hCollecting pyparsing>=2.3.1\n",
            "  Downloading pyparsing-3.0.9-py3-none-any.whl (98 kB)\n",
            "\u001b[2K     \u001b[90m━━━━━━━━━━━━━━━━━━━━━━━━━━━━━━━━━━━━━━━━\u001b[0m \u001b[32m98.3/98.3 KB\u001b[0m \u001b[31m15.2 MB/s\u001b[0m eta \u001b[36m0:00:00\u001b[0m\n",
            "\u001b[?25hCollecting importlib-resources>=3.2.0\n",
            "  Downloading importlib_resources-5.12.0-py3-none-any.whl (36 kB)\n",
            "Collecting pillow>=6.2.0\n",
            "  Downloading Pillow-9.5.0-cp39-cp39-manylinux_2_28_x86_64.whl (3.4 MB)\n",
            "\u001b[2K     \u001b[90m━━━━━━━━━━━━━━━━━━━━━━━━━━━━━━━━━━━━━━━━\u001b[0m \u001b[32m3.4/3.4 MB\u001b[0m \u001b[31m88.3 MB/s\u001b[0m eta \u001b[36m0:00:00\u001b[0m\n",
            "\u001b[?25hCollecting tzdata>=2022.1\n",
            "  Downloading tzdata-2023.3-py2.py3-none-any.whl (341 kB)\n",
            "\u001b[2K     \u001b[90m━━━━━━━━━━━━━━━━━━━━━━━━━━━━━━━━━━━━━━\u001b[0m \u001b[32m341.8/341.8 KB\u001b[0m \u001b[31m32.0 MB/s\u001b[0m eta \u001b[36m0:00:00\u001b[0m\n",
            "\u001b[?25hCollecting pytz>=2020.1\n",
            "  Downloading pytz-2023.3-py2.py3-none-any.whl (502 kB)\n",
            "\u001b[2K     \u001b[90m━━━━━━━━━━━━━━━━━━━━━━━━━━━━━━━━━━━━━━\u001b[0m \u001b[32m502.3/502.3 KB\u001b[0m \u001b[31m41.2 MB/s\u001b[0m eta \u001b[36m0:00:00\u001b[0m\n",
            "\u001b[?25hCollecting joblib>=1.1.1\n",
            "  Downloading joblib-1.2.0-py3-none-any.whl (297 kB)\n",
            "\u001b[2K     \u001b[90m━━━━━━━━━━━━━━━━━━━━━━━━━━━━━━━━━━━━━━\u001b[0m \u001b[32m298.0/298.0 KB\u001b[0m \u001b[31m38.8 MB/s\u001b[0m eta \u001b[36m0:00:00\u001b[0m\n",
            "\u001b[?25hCollecting threadpoolctl>=2.0.0\n",
            "  Downloading threadpoolctl-3.1.0-py3-none-any.whl (14 kB)\n",
            "Collecting zipp>=3.1.0\n",
            "  Downloading zipp-3.15.0-py3-none-any.whl (6.8 kB)\n",
            "Collecting six>=1.5\n",
            "  Downloading six-1.16.0-py2.py3-none-any.whl (11 kB)\n",
            "Installing collected packages: pytz, zipp, tzdata, threadpoolctl, six, pyparsing, pillow, packaging, numpy, kiwisolver, joblib, fonttools, cycler, scipy, python-dateutil, importlib-resources, contourpy, scikit-learn, pandas, matplotlib, seaborn, pyGRNN\n",
            "\u001b[31mERROR: pip's dependency resolver does not currently take into account all the packages that are installed. This behaviour is the source of the following dependency conflicts.\n",
            "tensorflow 2.12.0 requires numpy<1.24,>=1.22, but you have numpy 1.24.2 which is incompatible.\n",
            "pandas-profiling 3.2.0 requires joblib~=1.1.0, but you have joblib 1.2.0 which is incompatible.\n",
            "numba 0.56.4 requires numpy<1.24,>=1.18, but you have numpy 1.24.2 which is incompatible.\u001b[0m\u001b[31m\n",
            "\u001b[0mSuccessfully installed contourpy-1.0.7 cycler-0.11.0 fonttools-4.39.3 importlib-resources-5.12.0 joblib-1.2.0 kiwisolver-1.4.4 matplotlib-3.7.1 numpy-1.24.2 packaging-23.0 pandas-2.0.0 pillow-9.5.0 pyGRNN-0.1.2 pyparsing-3.0.9 python-dateutil-2.8.2 pytz-2023.3 scikit-learn-1.2.2 scipy-1.10.1 seaborn-0.12.2 six-1.16.0 threadpoolctl-3.1.0 tzdata-2023.3 zipp-3.15.0\n"
          ]
        }
      ]
    },
    {
      "cell_type": "code",
      "source": [
        "from pyGRNN import GRNN"
      ],
      "metadata": {
        "id": "MmxnkM29oAgy"
      },
      "execution_count": null,
      "outputs": []
    },
    {
      "cell_type": "code",
      "source": [
        "AGRNN = GRNN(calibration = 'gradient_search')"
      ],
      "metadata": {
        "id": "vn-PGJTEoHFP"
      },
      "execution_count": null,
      "outputs": []
    },
    {
      "cell_type": "code",
      "source": [
        "AGRNN.fit(train_X,train_y.ravel())"
      ],
      "metadata": {
        "colab": {
          "base_uri": "https://localhost:8080/",
          "height": 230
        },
        "id": "OfdJdZnDoL60",
        "outputId": "be562901-5b48-467d-fd64-7ebfdbad3476"
      },
      "execution_count": null,
      "outputs": [
        {
          "output_type": "execute_result",
          "data": {
            "text/plain": [
              "GRNN(bnds=((0, None), (0, None), (0, None), (0, None), (0, None), (0, None),\n",
              "           (0, None), (0, None), (0, None), (0, None), (0, None), (0, None),\n",
              "           (0, None), (0, None), (0, None), (0, None), (0, None), (0, None),\n",
              "           (0, None), (0, None), (0, None), (0, None), (0, None)),\n",
              "     calibration='gradient_search',\n",
              "     sigma=array([1.83603362, 3.08831085, 1.08513261, 1.03598389, 1.20422371,\n",
              "       1.84695947, 5.04540702, 2.65294255, 1.39780384, 1.42933333,\n",
              "       0.09986098, 0.40229152, 0.5511398 , 0.05917812, 3.28310522,\n",
              "       1.32209515, 0.12347643, 0.20687221, 0.09044698, 0.39999629,\n",
              "       0.40014217, 0.20194209, 0.01497752]))"
            ],
            "text/html": [
              "<style>#sk-container-id-2 {color: black;background-color: white;}#sk-container-id-2 pre{padding: 0;}#sk-container-id-2 div.sk-toggleable {background-color: white;}#sk-container-id-2 label.sk-toggleable__label {cursor: pointer;display: block;width: 100%;margin-bottom: 0;padding: 0.3em;box-sizing: border-box;text-align: center;}#sk-container-id-2 label.sk-toggleable__label-arrow:before {content: \"▸\";float: left;margin-right: 0.25em;color: #696969;}#sk-container-id-2 label.sk-toggleable__label-arrow:hover:before {color: black;}#sk-container-id-2 div.sk-estimator:hover label.sk-toggleable__label-arrow:before {color: black;}#sk-container-id-2 div.sk-toggleable__content {max-height: 0;max-width: 0;overflow: hidden;text-align: left;background-color: #f0f8ff;}#sk-container-id-2 div.sk-toggleable__content pre {margin: 0.2em;color: black;border-radius: 0.25em;background-color: #f0f8ff;}#sk-container-id-2 input.sk-toggleable__control:checked~div.sk-toggleable__content {max-height: 200px;max-width: 100%;overflow: auto;}#sk-container-id-2 input.sk-toggleable__control:checked~label.sk-toggleable__label-arrow:before {content: \"▾\";}#sk-container-id-2 div.sk-estimator input.sk-toggleable__control:checked~label.sk-toggleable__label {background-color: #d4ebff;}#sk-container-id-2 div.sk-label input.sk-toggleable__control:checked~label.sk-toggleable__label {background-color: #d4ebff;}#sk-container-id-2 input.sk-hidden--visually {border: 0;clip: rect(1px 1px 1px 1px);clip: rect(1px, 1px, 1px, 1px);height: 1px;margin: -1px;overflow: hidden;padding: 0;position: absolute;width: 1px;}#sk-container-id-2 div.sk-estimator {font-family: monospace;background-color: #f0f8ff;border: 1px dotted black;border-radius: 0.25em;box-sizing: border-box;margin-bottom: 0.5em;}#sk-container-id-2 div.sk-estimator:hover {background-color: #d4ebff;}#sk-container-id-2 div.sk-parallel-item::after {content: \"\";width: 100%;border-bottom: 1px solid gray;flex-grow: 1;}#sk-container-id-2 div.sk-label:hover label.sk-toggleable__label {background-color: #d4ebff;}#sk-container-id-2 div.sk-serial::before {content: \"\";position: absolute;border-left: 1px solid gray;box-sizing: border-box;top: 0;bottom: 0;left: 50%;z-index: 0;}#sk-container-id-2 div.sk-serial {display: flex;flex-direction: column;align-items: center;background-color: white;padding-right: 0.2em;padding-left: 0.2em;position: relative;}#sk-container-id-2 div.sk-item {position: relative;z-index: 1;}#sk-container-id-2 div.sk-parallel {display: flex;align-items: stretch;justify-content: center;background-color: white;position: relative;}#sk-container-id-2 div.sk-item::before, #sk-container-id-2 div.sk-parallel-item::before {content: \"\";position: absolute;border-left: 1px solid gray;box-sizing: border-box;top: 0;bottom: 0;left: 50%;z-index: -1;}#sk-container-id-2 div.sk-parallel-item {display: flex;flex-direction: column;z-index: 1;position: relative;background-color: white;}#sk-container-id-2 div.sk-parallel-item:first-child::after {align-self: flex-end;width: 50%;}#sk-container-id-2 div.sk-parallel-item:last-child::after {align-self: flex-start;width: 50%;}#sk-container-id-2 div.sk-parallel-item:only-child::after {width: 0;}#sk-container-id-2 div.sk-dashed-wrapped {border: 1px dashed gray;margin: 0 0.4em 0.5em 0.4em;box-sizing: border-box;padding-bottom: 0.4em;background-color: white;}#sk-container-id-2 div.sk-label label {font-family: monospace;font-weight: bold;display: inline-block;line-height: 1.2em;}#sk-container-id-2 div.sk-label-container {text-align: center;}#sk-container-id-2 div.sk-container {/* jupyter's `normalize.less` sets `[hidden] { display: none; }` but bootstrap.min.css set `[hidden] { display: none !important; }` so we also need the `!important` here to be able to override the default hidden behavior on the sphinx rendered scikit-learn.org. See: https://github.com/scikit-learn/scikit-learn/issues/21755 */display: inline-block !important;position: relative;}#sk-container-id-2 div.sk-text-repr-fallback {display: none;}</style><div id=\"sk-container-id-2\" class=\"sk-top-container\"><div class=\"sk-text-repr-fallback\"><pre>GRNN(bnds=((0, None), (0, None), (0, None), (0, None), (0, None), (0, None),\n",
              "           (0, None), (0, None), (0, None), (0, None), (0, None), (0, None),\n",
              "           (0, None), (0, None), (0, None), (0, None), (0, None), (0, None),\n",
              "           (0, None), (0, None), (0, None), (0, None), (0, None)),\n",
              "     calibration=&#x27;gradient_search&#x27;,\n",
              "     sigma=array([1.83603362, 3.08831085, 1.08513261, 1.03598389, 1.20422371,\n",
              "       1.84695947, 5.04540702, 2.65294255, 1.39780384, 1.42933333,\n",
              "       0.09986098, 0.40229152, 0.5511398 , 0.05917812, 3.28310522,\n",
              "       1.32209515, 0.12347643, 0.20687221, 0.09044698, 0.39999629,\n",
              "       0.40014217, 0.20194209, 0.01497752]))</pre><b>In a Jupyter environment, please rerun this cell to show the HTML representation or trust the notebook. <br />On GitHub, the HTML representation is unable to render, please try loading this page with nbviewer.org.</b></div><div class=\"sk-container\" hidden><div class=\"sk-item\"><div class=\"sk-estimator sk-toggleable\"><input class=\"sk-toggleable__control sk-hidden--visually\" id=\"sk-estimator-id-2\" type=\"checkbox\" checked><label for=\"sk-estimator-id-2\" class=\"sk-toggleable__label sk-toggleable__label-arrow\">GRNN</label><div class=\"sk-toggleable__content\"><pre>GRNN(bnds=((0, None), (0, None), (0, None), (0, None), (0, None), (0, None),\n",
              "           (0, None), (0, None), (0, None), (0, None), (0, None), (0, None),\n",
              "           (0, None), (0, None), (0, None), (0, None), (0, None), (0, None),\n",
              "           (0, None), (0, None), (0, None), (0, None), (0, None)),\n",
              "     calibration=&#x27;gradient_search&#x27;,\n",
              "     sigma=array([1.83603362, 3.08831085, 1.08513261, 1.03598389, 1.20422371,\n",
              "       1.84695947, 5.04540702, 2.65294255, 1.39780384, 1.42933333,\n",
              "       0.09986098, 0.40229152, 0.5511398 , 0.05917812, 3.28310522,\n",
              "       1.32209515, 0.12347643, 0.20687221, 0.09044698, 0.39999629,\n",
              "       0.40014217, 0.20194209, 0.01497752]))</pre></div></div></div></div></div>"
            ]
          },
          "metadata": {},
          "execution_count": 78
        }
      ]
    },
    {
      "cell_type": "code",
      "source": [
        "sigma = AGRNN.sigma"
      ],
      "metadata": {
        "id": "qSJJPh9noPxn"
      },
      "execution_count": null,
      "outputs": []
    },
    {
      "cell_type": "code",
      "source": [
        "prediction = AGRNN.predict(val_X)"
      ],
      "metadata": {
        "id": "zqFctmW2oTNJ"
      },
      "execution_count": null,
      "outputs": []
    },
    {
      "cell_type": "code",
      "source": [
        "mse_AGRNN = MSE(val_y,predictions)\n",
        "mse_AGRNN"
      ],
      "metadata": {
        "colab": {
          "base_uri": "https://localhost:8080/"
        },
        "id": "_-6RfSYNoVEf",
        "outputId": "75d230cd-833b-4d28-d7a6-b6932bfc8000"
      },
      "execution_count": null,
      "outputs": [
        {
          "output_type": "execute_result",
          "data": {
            "text/plain": [
              "0.2520404436640936"
            ]
          },
          "metadata": {},
          "execution_count": 81
        }
      ]
    },
    {
      "cell_type": "code",
      "source": [
        "print('\\nGRNN')\n",
        "print('Accuracy Score:',metrics.accuracy_score(val_y,prediction.round())*100,'%',sep='')\n",
        "print('Confusion Matrix:',metrics.confusion_matrix(val_y,prediction.round()),sep='\\n')\n",
        "print(classification_report(val_y,prediction.round()))"
      ],
      "metadata": {
        "colab": {
          "base_uri": "https://localhost:8080/"
        },
        "id": "IwhxBCUPodpd",
        "outputId": "387c73e4-6cc0-48b9-eac4-c78a0ecd8372"
      },
      "execution_count": null,
      "outputs": [
        {
          "output_type": "stream",
          "name": "stdout",
          "text": [
            "\n",
            "GRNN\n",
            "Accuracy Score:86.8421052631579%\n",
            "Confusion Matrix:\n",
            "[[17  4]\n",
            " [ 1 16]]\n",
            "              precision    recall  f1-score   support\n",
            "\n",
            "           0       0.94      0.81      0.87        21\n",
            "           1       0.80      0.94      0.86        17\n",
            "\n",
            "    accuracy                           0.87        38\n",
            "   macro avg       0.87      0.88      0.87        38\n",
            "weighted avg       0.88      0.87      0.87        38\n",
            "\n"
          ]
        }
      ]
    },
    {
      "cell_type": "code",
      "source": [
        "import tensorflow as tf\n",
        "from tensorflow.keras import datasets, layers, models"
      ],
      "metadata": {
        "id": "ncwhIhsmoi4L"
      },
      "execution_count": null,
      "outputs": []
    },
    {
      "cell_type": "code",
      "source": [
        "ann = tf.keras.models.Sequential()"
      ],
      "metadata": {
        "id": "Y3rtxzpAomsB"
      },
      "execution_count": null,
      "outputs": []
    },
    {
      "cell_type": "code",
      "source": [
        "ann.add(tf.keras.layers.Dense(units=6,activation=\"relu\"))"
      ],
      "metadata": {
        "id": "Kay2b7EJoqRi"
      },
      "execution_count": null,
      "outputs": []
    },
    {
      "cell_type": "code",
      "source": [
        "ann.add(tf.keras.layers.Dense(units=6,activation=\"relu\"))"
      ],
      "metadata": {
        "id": "bMHte89Eot5Y"
      },
      "execution_count": null,
      "outputs": []
    },
    {
      "cell_type": "code",
      "source": [
        "ann.add(tf.keras.layers.Dense(units=1,activation=\"sigmoid\"))"
      ],
      "metadata": {
        "id": "RhqGCQBroyPp"
      },
      "execution_count": null,
      "outputs": []
    },
    {
      "cell_type": "code",
      "source": [
        "ann.compile(optimizer=\"adam\",loss=\"binary_crossentropy\",metrics=['accuracy'])"
      ],
      "metadata": {
        "id": "7NuB8Fvpo3q1"
      },
      "execution_count": null,
      "outputs": []
    },
    {
      "cell_type": "code",
      "source": [
        "ann.fit(train_X,train_y,batch_size=32,epochs = 75)"
      ],
      "metadata": {
        "colab": {
          "base_uri": "https://localhost:8080/"
        },
        "id": "Nl3qPhC0o8YH",
        "outputId": "87e9ab06-553a-4ec0-ac26-ff7974d9cb98"
      },
      "execution_count": null,
      "outputs": [
        {
          "output_type": "stream",
          "name": "stdout",
          "text": [
            "Epoch 1/75\n",
            "5/5 [==============================] - 1s 4ms/step - loss: 0.7110 - accuracy: 0.4631\n",
            "Epoch 2/75\n",
            "5/5 [==============================] - 0s 6ms/step - loss: 0.7025 - accuracy: 0.4832\n",
            "Epoch 3/75\n",
            "5/5 [==============================] - 0s 4ms/step - loss: 0.6943 - accuracy: 0.4966\n",
            "Epoch 4/75\n",
            "5/5 [==============================] - 0s 4ms/step - loss: 0.6883 - accuracy: 0.4966\n",
            "Epoch 5/75\n",
            "5/5 [==============================] - 0s 4ms/step - loss: 0.6813 - accuracy: 0.5168\n",
            "Epoch 6/75\n",
            "5/5 [==============================] - 0s 4ms/step - loss: 0.6754 - accuracy: 0.5168\n",
            "Epoch 7/75\n",
            "5/5 [==============================] - 0s 5ms/step - loss: 0.6698 - accuracy: 0.5302\n",
            "Epoch 8/75\n",
            "5/5 [==============================] - 0s 5ms/step - loss: 0.6639 - accuracy: 0.5503\n",
            "Epoch 9/75\n",
            "5/5 [==============================] - 0s 4ms/step - loss: 0.6589 - accuracy: 0.5638\n",
            "Epoch 10/75\n",
            "5/5 [==============================] - 0s 5ms/step - loss: 0.6539 - accuracy: 0.5570\n",
            "Epoch 11/75\n",
            "5/5 [==============================] - 0s 6ms/step - loss: 0.6486 - accuracy: 0.5772\n",
            "Epoch 12/75\n",
            "5/5 [==============================] - 0s 5ms/step - loss: 0.6444 - accuracy: 0.5906\n",
            "Epoch 13/75\n",
            "5/5 [==============================] - 0s 4ms/step - loss: 0.6394 - accuracy: 0.5973\n",
            "Epoch 14/75\n",
            "5/5 [==============================] - 0s 4ms/step - loss: 0.6352 - accuracy: 0.6174\n",
            "Epoch 15/75\n",
            "5/5 [==============================] - 0s 4ms/step - loss: 0.6310 - accuracy: 0.6376\n",
            "Epoch 16/75\n",
            "5/5 [==============================] - 0s 4ms/step - loss: 0.6265 - accuracy: 0.6510\n",
            "Epoch 17/75\n",
            "5/5 [==============================] - 0s 4ms/step - loss: 0.6225 - accuracy: 0.6577\n",
            "Epoch 18/75\n",
            "5/5 [==============================] - 0s 5ms/step - loss: 0.6184 - accuracy: 0.6644\n",
            "Epoch 19/75\n",
            "5/5 [==============================] - 0s 5ms/step - loss: 0.6143 - accuracy: 0.6577\n",
            "Epoch 20/75\n",
            "5/5 [==============================] - 0s 4ms/step - loss: 0.6103 - accuracy: 0.6779\n",
            "Epoch 21/75\n",
            "5/5 [==============================] - 0s 4ms/step - loss: 0.6064 - accuracy: 0.6846\n",
            "Epoch 22/75\n",
            "5/5 [==============================] - 0s 4ms/step - loss: 0.6024 - accuracy: 0.6846\n",
            "Epoch 23/75\n",
            "5/5 [==============================] - 0s 5ms/step - loss: 0.5986 - accuracy: 0.6846\n",
            "Epoch 24/75\n",
            "5/5 [==============================] - 0s 5ms/step - loss: 0.5947 - accuracy: 0.6980\n",
            "Epoch 25/75\n",
            "5/5 [==============================] - 0s 4ms/step - loss: 0.5909 - accuracy: 0.7114\n",
            "Epoch 26/75\n",
            "5/5 [==============================] - 0s 4ms/step - loss: 0.5872 - accuracy: 0.7248\n",
            "Epoch 27/75\n",
            "5/5 [==============================] - 0s 4ms/step - loss: 0.5831 - accuracy: 0.7315\n",
            "Epoch 28/75\n",
            "5/5 [==============================] - 0s 4ms/step - loss: 0.5792 - accuracy: 0.7315\n",
            "Epoch 29/75\n",
            "5/5 [==============================] - 0s 4ms/step - loss: 0.5752 - accuracy: 0.7315\n",
            "Epoch 30/75\n",
            "5/5 [==============================] - 0s 5ms/step - loss: 0.5712 - accuracy: 0.7315\n",
            "Epoch 31/75\n",
            "5/5 [==============================] - 0s 5ms/step - loss: 0.5672 - accuracy: 0.7383\n",
            "Epoch 32/75\n",
            "5/5 [==============================] - 0s 4ms/step - loss: 0.5631 - accuracy: 0.7383\n",
            "Epoch 33/75\n",
            "5/5 [==============================] - 0s 5ms/step - loss: 0.5594 - accuracy: 0.7450\n",
            "Epoch 34/75\n",
            "5/5 [==============================] - 0s 5ms/step - loss: 0.5554 - accuracy: 0.7718\n",
            "Epoch 35/75\n",
            "5/5 [==============================] - 0s 5ms/step - loss: 0.5517 - accuracy: 0.7651\n",
            "Epoch 36/75\n",
            "5/5 [==============================] - 0s 4ms/step - loss: 0.5475 - accuracy: 0.7852\n",
            "Epoch 37/75\n",
            "5/5 [==============================] - 0s 4ms/step - loss: 0.5435 - accuracy: 0.7919\n",
            "Epoch 38/75\n",
            "5/5 [==============================] - 0s 4ms/step - loss: 0.5394 - accuracy: 0.7919\n",
            "Epoch 39/75\n",
            "5/5 [==============================] - 0s 4ms/step - loss: 0.5349 - accuracy: 0.7987\n",
            "Epoch 40/75\n",
            "5/5 [==============================] - 0s 4ms/step - loss: 0.5307 - accuracy: 0.8121\n",
            "Epoch 41/75\n",
            "5/5 [==============================] - 0s 5ms/step - loss: 0.5263 - accuracy: 0.8121\n",
            "Epoch 42/75\n",
            "5/5 [==============================] - 0s 4ms/step - loss: 0.5216 - accuracy: 0.8188\n",
            "Epoch 43/75\n",
            "5/5 [==============================] - 0s 4ms/step - loss: 0.5173 - accuracy: 0.8255\n",
            "Epoch 44/75\n",
            "5/5 [==============================] - 0s 6ms/step - loss: 0.5125 - accuracy: 0.8322\n",
            "Epoch 45/75\n",
            "5/5 [==============================] - 0s 4ms/step - loss: 0.5077 - accuracy: 0.8456\n",
            "Epoch 46/75\n",
            "5/5 [==============================] - 0s 4ms/step - loss: 0.5029 - accuracy: 0.8456\n",
            "Epoch 47/75\n",
            "5/5 [==============================] - 0s 4ms/step - loss: 0.4978 - accuracy: 0.8456\n",
            "Epoch 48/75\n",
            "5/5 [==============================] - 0s 4ms/step - loss: 0.4924 - accuracy: 0.8456\n",
            "Epoch 49/75\n",
            "5/5 [==============================] - 0s 5ms/step - loss: 0.4869 - accuracy: 0.8523\n",
            "Epoch 50/75\n",
            "5/5 [==============================] - 0s 4ms/step - loss: 0.4815 - accuracy: 0.8523\n",
            "Epoch 51/75\n",
            "5/5 [==============================] - 0s 4ms/step - loss: 0.4759 - accuracy: 0.8523\n",
            "Epoch 52/75\n",
            "5/5 [==============================] - 0s 5ms/step - loss: 0.4702 - accuracy: 0.8523\n",
            "Epoch 53/75\n",
            "5/5 [==============================] - 0s 5ms/step - loss: 0.4642 - accuracy: 0.8523\n",
            "Epoch 54/75\n",
            "5/5 [==============================] - 0s 5ms/step - loss: 0.4582 - accuracy: 0.8523\n",
            "Epoch 55/75\n",
            "5/5 [==============================] - 0s 4ms/step - loss: 0.4522 - accuracy: 0.8523\n",
            "Epoch 56/75\n",
            "5/5 [==============================] - 0s 4ms/step - loss: 0.4459 - accuracy: 0.8456\n",
            "Epoch 57/75\n",
            "5/5 [==============================] - 0s 4ms/step - loss: 0.4398 - accuracy: 0.8456\n",
            "Epoch 58/75\n",
            "5/5 [==============================] - 0s 4ms/step - loss: 0.4334 - accuracy: 0.8456\n",
            "Epoch 59/75\n",
            "5/5 [==============================] - 0s 5ms/step - loss: 0.4271 - accuracy: 0.8658\n",
            "Epoch 60/75\n",
            "5/5 [==============================] - 0s 6ms/step - loss: 0.4205 - accuracy: 0.8591\n",
            "Epoch 61/75\n",
            "5/5 [==============================] - 0s 6ms/step - loss: 0.4136 - accuracy: 0.8591\n",
            "Epoch 62/75\n",
            "5/5 [==============================] - 0s 6ms/step - loss: 0.4070 - accuracy: 0.8658\n",
            "Epoch 63/75\n",
            "5/5 [==============================] - 0s 6ms/step - loss: 0.4000 - accuracy: 0.8725\n",
            "Epoch 64/75\n",
            "5/5 [==============================] - 0s 6ms/step - loss: 0.3935 - accuracy: 0.8859\n",
            "Epoch 65/75\n",
            "5/5 [==============================] - 0s 6ms/step - loss: 0.3869 - accuracy: 0.8926\n",
            "Epoch 66/75\n",
            "5/5 [==============================] - 0s 6ms/step - loss: 0.3796 - accuracy: 0.8993\n",
            "Epoch 67/75\n",
            "5/5 [==============================] - 0s 6ms/step - loss: 0.3731 - accuracy: 0.8993\n",
            "Epoch 68/75\n",
            "5/5 [==============================] - 0s 7ms/step - loss: 0.3664 - accuracy: 0.8993\n",
            "Epoch 69/75\n",
            "5/5 [==============================] - 0s 5ms/step - loss: 0.3595 - accuracy: 0.8993\n",
            "Epoch 70/75\n",
            "5/5 [==============================] - 0s 5ms/step - loss: 0.3526 - accuracy: 0.8993\n",
            "Epoch 71/75\n",
            "5/5 [==============================] - 0s 5ms/step - loss: 0.3462 - accuracy: 0.8993\n",
            "Epoch 72/75\n",
            "5/5 [==============================] - 0s 5ms/step - loss: 0.3395 - accuracy: 0.8993\n",
            "Epoch 73/75\n",
            "5/5 [==============================] - 0s 4ms/step - loss: 0.3331 - accuracy: 0.9060\n",
            "Epoch 74/75\n",
            "5/5 [==============================] - 0s 5ms/step - loss: 0.3264 - accuracy: 0.9060\n",
            "Epoch 75/75\n",
            "5/5 [==============================] - 0s 5ms/step - loss: 0.3206 - accuracy: 0.9128\n"
          ]
        },
        {
          "output_type": "execute_result",
          "data": {
            "text/plain": [
              "<keras.callbacks.History at 0x7f3851da8b80>"
            ]
          },
          "metadata": {},
          "execution_count": 89
        }
      ]
    },
    {
      "cell_type": "code",
      "source": [
        "predict = ann.predict(val_X)"
      ],
      "metadata": {
        "colab": {
          "base_uri": "https://localhost:8080/"
        },
        "id": "-nzr5EqtpAYx",
        "outputId": "a1c6b923-23e9-45c1-ccfe-fd3855c364d1"
      },
      "execution_count": null,
      "outputs": [
        {
          "output_type": "stream",
          "name": "stdout",
          "text": [
            "2/2 [==============================] - 0s 5ms/step\n"
          ]
        }
      ]
    },
    {
      "cell_type": "code",
      "source": [
        "mse_ann = MSE(val_y,predict)\n",
        "mse_ann"
      ],
      "metadata": {
        "colab": {
          "base_uri": "https://localhost:8080/"
        },
        "id": "bLsmwGgfpGTM",
        "outputId": "94f20194-2364-40b1-9626-2e3d4160dee6"
      },
      "execution_count": null,
      "outputs": [
        {
          "output_type": "execute_result",
          "data": {
            "text/plain": [
              "0.15427872263024417"
            ]
          },
          "metadata": {},
          "execution_count": 91
        }
      ]
    },
    {
      "cell_type": "code",
      "source": [
        "print('\\nANN')\n",
        "print('Accuracy Score:',metrics.accuracy_score(val_y,predict.round())*100,'%',sep='')\n",
        "print('Confusion Matrix:',metrics.confusion_matrix(val_y,predict.round()),sep='\\n')\n",
        "print(classification_report(val_y,predict.round()))"
      ],
      "metadata": {
        "colab": {
          "base_uri": "https://localhost:8080/"
        },
        "id": "xA1VLNtSpKD2",
        "outputId": "a5e5a6f4-a08e-4a4c-90fd-854b0cd6e792"
      },
      "execution_count": null,
      "outputs": [
        {
          "output_type": "stream",
          "name": "stdout",
          "text": [
            "\n",
            "ANN\n",
            "Accuracy Score:78.94736842105263%\n",
            "Confusion Matrix:\n",
            "[[18  3]\n",
            " [ 5 12]]\n",
            "              precision    recall  f1-score   support\n",
            "\n",
            "           0       0.78      0.86      0.82        21\n",
            "           1       0.80      0.71      0.75        17\n",
            "\n",
            "    accuracy                           0.79        38\n",
            "   macro avg       0.79      0.78      0.78        38\n",
            "weighted avg       0.79      0.79      0.79        38\n",
            "\n"
          ]
        }
      ]
    }
  ],
  "metadata": {
    "colab": {
      "provenance": []
    },
    "kernelspec": {
      "display_name": "Python 3",
      "name": "python3"
    },
    "language_info": {
      "name": "python"
    }
  },
  "nbformat": 4,
  "nbformat_minor": 0
}